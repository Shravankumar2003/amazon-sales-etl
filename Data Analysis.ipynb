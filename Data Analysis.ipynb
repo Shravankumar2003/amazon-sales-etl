{
 "cells": [
  {
   "cell_type": "code",
   "execution_count": null,
   "id": "187209bf-6c44-47a5-b3fa-0ce95e16296f",
   "metadata": {},
   "outputs": [],
   "source": [
    "import kaggle\n",
    "!kaggle datasets download -d thedevastator/unlock-profits-with-e-commerce-sales-data"
   ]
  },
  {
   "cell_type": "code",
   "execution_count": null,
   "id": "3c9f1d42-e836-465f-bcdb-79b57973e6b5",
   "metadata": {},
   "outputs": [],
   "source": [
    "import zipfile\n",
    "with zipfile.ZipFile('unlock-profits-with-e-commerce-sales-data.zip','r') as zip_ref:\n",
    "    zip_ref.extractall('Dataset_Folder')"
   ]
  },
  {
   "cell_type": "code",
   "execution_count": 45,
   "id": "b6107180-361f-4e9e-8ae8-772165e99ba6",
   "metadata": {},
   "outputs": [
    {
     "name": "stdout",
     "output_type": "stream",
     "text": [
      "Rows and Coloumns: (128975, 24)\n"
     ]
    }
   ],
   "source": [
    "#Know your data(Dimensions)\n",
    "import pandas as pd\n",
    "df = pd.read_csv('Dataset_Folder/Amazon Sale Report.csv',low_memory=False)\n",
    "print(\"Rows and Coloumns:\",df.shape)"
   ]
  },
  {
   "cell_type": "code",
   "execution_count": 46,
   "id": "ed549c3f-fb53-483d-9b88-e162dcb036cb",
   "metadata": {},
   "outputs": [
    {
     "data": {
      "text/plain": [
       "Index(['index', 'order_id', 'order_date', 'status', 'fulfilment',\n",
       "       'sales_channel', 'ship_service_level', 'style', 'sku', 'category',\n",
       "       'size', 'asin', 'courier_status', 'quantity', 'currency',\n",
       "       'order_amount', 'ship_city', 'ship_state', 'ship_postal_code',\n",
       "       'ship_country', 'promotion_ids', 'b2b', 'fulfilled_by'],\n",
       "      dtype='object')"
      ]
     },
     "execution_count": 46,
     "metadata": {},
     "output_type": "execute_result"
    }
   ],
   "source": [
    "#Dropping of the unuse data\n",
    "#Rename the columns \n",
    "#Remove the duplicate rows\n",
    "df= df.drop('Unnamed: 22',axis=1)\n",
    "df.columns=df.columns.str.strip().str.replace(r'[ -]','_',regex=True).str.lower()\n",
    "df=df.drop_duplicates()\n",
    "df=df.rename(columns= {'date':'order_date','qty':'quantity','amount':'order_amount'})\n",
    "df.columns"
   ]
  },
  {
   "cell_type": "code",
   "execution_count": 67,
   "id": "367dc3b1-4194-4799-9dfe-26402d8cf29a",
   "metadata": {},
   "outputs": [
    {
     "name": "stderr",
     "output_type": "stream",
     "text": [
      "C:\\Users\\shrav\\AppData\\Local\\Temp\\ipykernel_11924\\378665679.py:9: UserWarning: Parsing dates in %Y-%m-%d format when dayfirst=True was specified. Pass `dayfirst=False` or specify a format to silence this warning.\n",
      "  df['order_date'] = pd.to_datetime(df['order_date'], errors='coerce', dayfirst=True)\n"
     ]
    },
    {
     "data": {
      "text/plain": [
       "0    04/30/22\n",
       "1    04/30/22\n",
       "2    04/30/22\n",
       "3    04/30/22\n",
       "4    04/30/22\n",
       "5    04/30/22\n",
       "6    04/30/22\n",
       "7    04/30/22\n",
       "8    04/30/22\n",
       "9    04/30/22\n",
       "Name: order_date, dtype: object"
      ]
     },
     "execution_count": 67,
     "metadata": {},
     "output_type": "execute_result"
    }
   ],
   "source": [
    "# Month mapping\n",
    "month_map = {\n",
    "    'Jan': '01', 'Feb': '02', 'Mar': '03', 'Apr': '04',\n",
    "    'May': '05', 'Jun': '06', 'Jul': '07', 'Aug': '08',\n",
    "    'Sep': '09', 'Oct': '10', 'Nov': '11', 'Dec': '12'\n",
    "}\n",
    "\n",
    "# Convert proper dates directly\n",
    "df['order_date'] = pd.to_datetime(df['order_date'], errors='coerce', dayfirst=True)\n",
    "\n",
    "# Fill month names and map them to numeric equivalents\n",
    "month_mask = df['order_date'].isna() & df['order_date'].astype(str).isin(month_map)\n",
    "df.loc[month_mask, 'order_date'] = df.loc[month_mask, 'order_date'].astype(str).map(month_map)\n",
    "\n",
    "# Forward fill month values\n",
    "df['order_date'] = df['order_date'].ffill()\n",
    "\n",
    "# Handle day values under month headers (convert to string first)\n",
    "day_mask = df['order_date'].astype(str).str.match(r'^\\d{1,2}$', na=False)\n",
    "df.loc[day_mask, 'order_date'] = (\n",
    "    '2022-' + df.loc[day_mask, 'order_date'].shift().astype(str) + '-' + df.loc[day_mask, 'order_date'].astype(str).str.zfill(2)\n",
    ")\n",
    "\n",
    "# Correctly parse the dates with specified format to avoid warnings\n",
    "df['order_date'] = pd.to_datetime(df['order_date'], format='%m/%d/%Y', errors='coerce')\n",
    "\n",
    "# Format the dates as MM/DD/YY (optional if you want to display/save like this)\n",
    "df['order_date'] = df['order_date'].dt.strftime('%m/%d/%y')\n",
    "\n",
    "# Check the first 5 rows to verify\n",
    "df['order_date'].head(10)\n",
    "\n",
    "\n"
   ]
  },
  {
   "cell_type": "code",
   "execution_count": 68,
   "id": "5c7cf69e-11e7-4aa2-b721-7d7964bd1b85",
   "metadata": {},
   "outputs": [
    {
     "name": "stdout",
     "output_type": "stream",
     "text": [
      "order_id              0\n",
      "order_date            0\n",
      "status                0\n",
      "fulfilment            0\n",
      "sales_channel         0\n",
      "ship_service_level    0\n",
      "style                 0\n",
      "sku                   0\n",
      "category              0\n",
      "size                  0\n",
      "asin                  0\n",
      "courier_status        0\n",
      "quantity              0\n",
      "currency              0\n",
      "order_amount          0\n",
      "ship_city             0\n",
      "ship_state            0\n",
      "ship_postal_code      0\n",
      "ship_country          0\n",
      "promotion_ids         0\n",
      "b2b                   0\n",
      "fulfilled_by          0\n",
      "total_order_sales     0\n",
      "dtype: int64\n"
     ]
    }
   ],
   "source": [
    "#Handlin the missing values (Lets clean the data)\n",
    "df['courier_status']= df['courier_status'].fillna('Pending')\n",
    "df['currency']=df['currency'].fillna('Unknown')\n",
    "df['order_amount']=df['order_amount'].fillna(0)\n",
    "shipping_cols=['ship_city','ship_state', 'ship_postal_code', 'ship_country']\n",
    "df[shipping_cols]=df[shipping_cols].fillna('Unknown')\n",
    "df['promotion_ids']=df['promotion_ids'].fillna('None')\n",
    "df['fulfilled_by']=df['fulfilled_by'].fillna('Seller')\n",
    "print(df.isna().sum())\n",
    "\n"
   ]
  },
  {
   "cell_type": "code",
   "execution_count": 69,
   "id": "edf885da-4700-4ca3-a436-221af8e6c695",
   "metadata": {},
   "outputs": [
    {
     "data": {
      "text/html": [
       "<div>\n",
       "<style scoped>\n",
       "    .dataframe tbody tr th:only-of-type {\n",
       "        vertical-align: middle;\n",
       "    }\n",
       "\n",
       "    .dataframe tbody tr th {\n",
       "        vertical-align: top;\n",
       "    }\n",
       "\n",
       "    .dataframe thead th {\n",
       "        text-align: right;\n",
       "    }\n",
       "</style>\n",
       "<table border=\"1\" class=\"dataframe\">\n",
       "  <thead>\n",
       "    <tr style=\"text-align: right;\">\n",
       "      <th></th>\n",
       "      <th>order_id</th>\n",
       "      <th>order_date</th>\n",
       "      <th>status</th>\n",
       "      <th>fulfilment</th>\n",
       "      <th>sales_channel</th>\n",
       "      <th>ship_service_level</th>\n",
       "      <th>style</th>\n",
       "      <th>sku</th>\n",
       "      <th>category</th>\n",
       "      <th>size</th>\n",
       "      <th>...</th>\n",
       "      <th>currency</th>\n",
       "      <th>order_amount</th>\n",
       "      <th>ship_city</th>\n",
       "      <th>ship_state</th>\n",
       "      <th>ship_postal_code</th>\n",
       "      <th>ship_country</th>\n",
       "      <th>promotion_ids</th>\n",
       "      <th>b2b</th>\n",
       "      <th>fulfilled_by</th>\n",
       "      <th>total_order_sales</th>\n",
       "    </tr>\n",
       "  </thead>\n",
       "  <tbody>\n",
       "    <tr>\n",
       "      <th>42039</th>\n",
       "      <td>402-5239558-4281957</td>\n",
       "      <td>05/04/22</td>\n",
       "      <td>Shipped</td>\n",
       "      <td>Amazon</td>\n",
       "      <td>Amazon.in</td>\n",
       "      <td>Expedited</td>\n",
       "      <td>SET268</td>\n",
       "      <td>SET268-KR-NP-XS</td>\n",
       "      <td>Set</td>\n",
       "      <td>XS</td>\n",
       "      <td>...</td>\n",
       "      <td>INR</td>\n",
       "      <td>5584.0</td>\n",
       "      <td>GUNTUR</td>\n",
       "      <td>ANDHRA PRADESH</td>\n",
       "      <td>522007.0</td>\n",
       "      <td>IN</td>\n",
       "      <td>None</td>\n",
       "      <td>False</td>\n",
       "      <td>Seller</td>\n",
       "      <td>44672.0</td>\n",
       "    </tr>\n",
       "    <tr>\n",
       "      <th>11160</th>\n",
       "      <td>403-4106553-1691525</td>\n",
       "      <td>04/23/22</td>\n",
       "      <td>Shipped - Delivered to Buyer</td>\n",
       "      <td>Merchant</td>\n",
       "      <td>Amazon.in</td>\n",
       "      <td>Standard</td>\n",
       "      <td>J0013</td>\n",
       "      <td>J0013-SKD-XXXL</td>\n",
       "      <td>Set</td>\n",
       "      <td>3XL</td>\n",
       "      <td>...</td>\n",
       "      <td>INR</td>\n",
       "      <td>5495.0</td>\n",
       "      <td>JALANDHAR</td>\n",
       "      <td>PUNJAB</td>\n",
       "      <td>144022.0</td>\n",
       "      <td>IN</td>\n",
       "      <td>Amazon PLCC Free-Financing Universal Merchant ...</td>\n",
       "      <td>True</td>\n",
       "      <td>Easy Ship</td>\n",
       "      <td>27475.0</td>\n",
       "    </tr>\n",
       "    <tr>\n",
       "      <th>89150</th>\n",
       "      <td>406-7195963-2374765</td>\n",
       "      <td>02/05/22</td>\n",
       "      <td>Shipped</td>\n",
       "      <td>Amazon</td>\n",
       "      <td>Amazon.in</td>\n",
       "      <td>Expedited</td>\n",
       "      <td>SET197</td>\n",
       "      <td>SET197-KR-NP-M</td>\n",
       "      <td>Set</td>\n",
       "      <td>M</td>\n",
       "      <td>...</td>\n",
       "      <td>INR</td>\n",
       "      <td>3036.0</td>\n",
       "      <td>LUCKNOW</td>\n",
       "      <td>UTTAR PRADESH</td>\n",
       "      <td>226002.0</td>\n",
       "      <td>IN</td>\n",
       "      <td>IN Core Free Shipping 2015/04/08 23-48-5-108</td>\n",
       "      <td>False</td>\n",
       "      <td>Seller</td>\n",
       "      <td>12144.0</td>\n",
       "    </tr>\n",
       "    <tr>\n",
       "      <th>39944</th>\n",
       "      <td>408-3363121-6123562</td>\n",
       "      <td>06/04/22</td>\n",
       "      <td>Shipped - Delivered to Buyer</td>\n",
       "      <td>Merchant</td>\n",
       "      <td>Amazon.in</td>\n",
       "      <td>Standard</td>\n",
       "      <td>JNE3797</td>\n",
       "      <td>JNE3797-KR-XS</td>\n",
       "      <td>Western Dress</td>\n",
       "      <td>XS</td>\n",
       "      <td>...</td>\n",
       "      <td>INR</td>\n",
       "      <td>2860.0</td>\n",
       "      <td>KANPUR</td>\n",
       "      <td>UTTAR PRADESH</td>\n",
       "      <td>208001.0</td>\n",
       "      <td>IN</td>\n",
       "      <td>Amazon PLCC Free-Financing Universal Merchant ...</td>\n",
       "      <td>False</td>\n",
       "      <td>Easy Ship</td>\n",
       "      <td>11440.0</td>\n",
       "    </tr>\n",
       "    <tr>\n",
       "      <th>79899</th>\n",
       "      <td>405-6877720-7865168</td>\n",
       "      <td>07/05/22</td>\n",
       "      <td>Shipped - Returned to Seller</td>\n",
       "      <td>Merchant</td>\n",
       "      <td>Amazon.in</td>\n",
       "      <td>Standard</td>\n",
       "      <td>JNE2086</td>\n",
       "      <td>JNE2086-KR-389-M</td>\n",
       "      <td>kurta</td>\n",
       "      <td>M</td>\n",
       "      <td>...</td>\n",
       "      <td>INR</td>\n",
       "      <td>2796.0</td>\n",
       "      <td>MAHENDRAGARH</td>\n",
       "      <td>HARYANA</td>\n",
       "      <td>123029.0</td>\n",
       "      <td>IN</td>\n",
       "      <td>Amazon PLCC Free-Financing Universal Merchant ...</td>\n",
       "      <td>False</td>\n",
       "      <td>Easy Ship</td>\n",
       "      <td>11184.0</td>\n",
       "    </tr>\n",
       "  </tbody>\n",
       "</table>\n",
       "<p>5 rows × 23 columns</p>\n",
       "</div>"
      ],
      "text/plain": [
       "                  order_id order_date                        status  \\\n",
       "42039  402-5239558-4281957   05/04/22                       Shipped   \n",
       "11160  403-4106553-1691525   04/23/22  Shipped - Delivered to Buyer   \n",
       "89150  406-7195963-2374765   02/05/22                       Shipped   \n",
       "39944  408-3363121-6123562   06/04/22  Shipped - Delivered to Buyer   \n",
       "79899  405-6877720-7865168   07/05/22  Shipped - Returned to Seller   \n",
       "\n",
       "      fulfilment sales_channel ship_service_level    style               sku  \\\n",
       "42039     Amazon     Amazon.in          Expedited   SET268   SET268-KR-NP-XS   \n",
       "11160   Merchant     Amazon.in           Standard    J0013    J0013-SKD-XXXL   \n",
       "89150     Amazon     Amazon.in          Expedited   SET197    SET197-KR-NP-M   \n",
       "39944   Merchant     Amazon.in           Standard  JNE3797     JNE3797-KR-XS   \n",
       "79899   Merchant     Amazon.in           Standard  JNE2086  JNE2086-KR-389-M   \n",
       "\n",
       "            category size  ... currency order_amount     ship_city  \\\n",
       "42039            Set   XS  ...      INR       5584.0        GUNTUR   \n",
       "11160            Set  3XL  ...      INR       5495.0     JALANDHAR   \n",
       "89150            Set    M  ...      INR       3036.0       LUCKNOW   \n",
       "39944  Western Dress   XS  ...      INR       2860.0        KANPUR   \n",
       "79899          kurta    M  ...      INR       2796.0  MAHENDRAGARH   \n",
       "\n",
       "           ship_state  ship_postal_code ship_country  \\\n",
       "42039  ANDHRA PRADESH          522007.0           IN   \n",
       "11160          PUNJAB          144022.0           IN   \n",
       "89150   UTTAR PRADESH          226002.0           IN   \n",
       "39944   UTTAR PRADESH          208001.0           IN   \n",
       "79899         HARYANA          123029.0           IN   \n",
       "\n",
       "                                           promotion_ids    b2b fulfilled_by  \\\n",
       "42039                                               None  False       Seller   \n",
       "11160  Amazon PLCC Free-Financing Universal Merchant ...   True    Easy Ship   \n",
       "89150       IN Core Free Shipping 2015/04/08 23-48-5-108  False       Seller   \n",
       "39944  Amazon PLCC Free-Financing Universal Merchant ...  False    Easy Ship   \n",
       "79899  Amazon PLCC Free-Financing Universal Merchant ...  False    Easy Ship   \n",
       "\n",
       "      total_order_sales  \n",
       "42039           44672.0  \n",
       "11160           27475.0  \n",
       "89150           12144.0  \n",
       "39944           11440.0  \n",
       "79899           11184.0  \n",
       "\n",
       "[5 rows x 23 columns]"
      ]
     },
     "execution_count": 69,
     "metadata": {},
     "output_type": "execute_result"
    }
   ],
   "source": [
    "#Total Sales\n",
    "df['total_order_sales']= df['quantity']*df['order_amount']\n",
    "df['total_order_sales'].sum()   #Total sum of sales\n",
    "df.nlargest(5,'total_order_sales') #Top 5 Sales\n",
    "\n"
   ]
  },
  {
   "cell_type": "code",
   "execution_count": 70,
   "id": "abe60961-5547-466f-b614-6aed74f80334",
   "metadata": {},
   "outputs": [
    {
     "name": "stdout",
     "output_type": "stream",
     "text": [
      "Connected successfully!\n"
     ]
    }
   ],
   "source": [
    "#Load the data into sql server\n",
    "#Load the data into sql server\n",
    "import sqlalchemy as sal\n",
    "engine = sal.create_engine(\n",
    "    r'mssql+pyodbc://DESKTOP-HI47A2M\\SQLEXPRESS01/master?trusted_connection=yes&driver=ODBC+Driver+17+for+SQL+Server'\n",
    ")\n",
    "conn = engine.connect()\n",
    "print(\"Connected successfully!\")\n"
   ]
  },
  {
   "cell_type": "code",
   "execution_count": 71,
   "id": "2f03734b-82b5-41ab-86c5-3eae57cca10b",
   "metadata": {},
   "outputs": [
    {
     "data": {
      "text/plain": [
       "28"
      ]
     },
     "execution_count": 71,
     "metadata": {},
     "output_type": "execute_result"
    }
   ],
   "source": [
    "df=df.drop(columns='index',errors='ignore')\n",
    "df.to_sql('Amazon_Sales_Report', con=engine,index= False ,if_exists='append')"
   ]
  },
  {
   "cell_type": "code",
   "execution_count": 72,
   "id": "23dfaf3b-ff50-4f1f-a574-0c6b96427947",
   "metadata": {},
   "outputs": [
    {
     "data": {
      "text/plain": [
       "Index(['order_id', 'order_date', 'status', 'fulfilment', 'sales_channel',\n",
       "       'ship_service_level', 'style', 'sku', 'category', 'size', 'asin',\n",
       "       'courier_status', 'quantity', 'currency', 'order_amount', 'ship_city',\n",
       "       'ship_state', 'ship_postal_code', 'ship_country', 'promotion_ids',\n",
       "       'b2b', 'fulfilled_by', 'total_order_sales'],\n",
       "      dtype='object')"
      ]
     },
     "execution_count": 72,
     "metadata": {},
     "output_type": "execute_result"
    }
   ],
   "source": [
    "df.columns\n"
   ]
  },
  {
   "cell_type": "code",
   "execution_count": null,
   "id": "394d5321-4665-4ba4-bfa7-7107964d773c",
   "metadata": {},
   "outputs": [],
   "source": []
  }
 ],
 "metadata": {
  "kernelspec": {
   "display_name": "Python 3 (ipykernel)",
   "language": "python",
   "name": "python3"
  },
  "language_info": {
   "codemirror_mode": {
    "name": "ipython",
    "version": 3
   },
   "file_extension": ".py",
   "mimetype": "text/x-python",
   "name": "python",
   "nbconvert_exporter": "python",
   "pygments_lexer": "ipython3",
   "version": "3.13.2"
  }
 },
 "nbformat": 4,
 "nbformat_minor": 5
}
